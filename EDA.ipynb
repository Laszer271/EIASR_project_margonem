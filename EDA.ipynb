{
 "cells": [
  {
   "cell_type": "code",
   "execution_count": 1,
   "metadata": {},
   "outputs": [],
   "source": [
    "import pandas as pd\n",
    "import matplotlib.pyplot as plt"
   ]
  },
  {
   "cell_type": "code",
   "execution_count": 2,
   "metadata": {},
   "outputs": [],
   "source": [
    "df = pd.read_csv('Data/CharacterLevelData/Characters.csv')"
   ]
  },
  {
   "cell_type": "code",
   "execution_count": 3,
   "metadata": {},
   "outputs": [
    {
     "data": {
      "text/html": [
       "<div>\n",
       "<style scoped>\n",
       "    .dataframe tbody tr th:only-of-type {\n",
       "        vertical-align: middle;\n",
       "    }\n",
       "\n",
       "    .dataframe tbody tr th {\n",
       "        vertical-align: top;\n",
       "    }\n",
       "\n",
       "    .dataframe thead th {\n",
       "        text-align: right;\n",
       "    }\n",
       "</style>\n",
       "<table border=\"1\" class=\"dataframe\">\n",
       "  <thead>\n",
       "    <tr style=\"text-align: right;\">\n",
       "      <th></th>\n",
       "      <th>Id</th>\n",
       "      <th>Gender</th>\n",
       "      <th>Nickname</th>\n",
       "      <th>SkinUrl</th>\n",
       "      <th>Level</th>\n",
       "      <th>Profession</th>\n",
       "      <th>World</th>\n",
       "      <th>Guild</th>\n",
       "      <th>GuildId</th>\n",
       "      <th>PlayerId</th>\n",
       "    </tr>\n",
       "  </thead>\n",
       "  <tbody>\n",
       "    <tr>\n",
       "      <th>0</th>\n",
       "      <td>363513</td>\n",
       "      <td>Male</td>\n",
       "      <td>Akceleratywny</td>\n",
       "      <td>www.margonem.pl/obrazki/postacie/woj/10/m_woj0...</td>\n",
       "      <td>180</td>\n",
       "      <td>Wojownik</td>\n",
       "      <td>Aldous</td>\n",
       "      <td>NaN</td>\n",
       "      <td>0</td>\n",
       "      <td>774087</td>\n",
       "    </tr>\n",
       "    <tr>\n",
       "      <th>1</th>\n",
       "      <td>363512</td>\n",
       "      <td>Male</td>\n",
       "      <td>Grzmotopędzik</td>\n",
       "      <td>www.margonem.pl/obrazki/postacie/woj/10/m_woj0...</td>\n",
       "      <td>210</td>\n",
       "      <td>Wojownik</td>\n",
       "      <td>Aldous</td>\n",
       "      <td>NaN</td>\n",
       "      <td>0</td>\n",
       "      <td>774087</td>\n",
       "    </tr>\n",
       "    <tr>\n",
       "      <th>2</th>\n",
       "      <td>381483</td>\n",
       "      <td>Male</td>\n",
       "      <td>odbijesechryzie</td>\n",
       "      <td>www.margonem.pl/obrazki/postacie/paid/grzyb_ou...</td>\n",
       "      <td>188</td>\n",
       "      <td>Mag</td>\n",
       "      <td>Aldous</td>\n",
       "      <td>NaN</td>\n",
       "      <td>0</td>\n",
       "      <td>774087</td>\n",
       "    </tr>\n",
       "    <tr>\n",
       "      <th>3</th>\n",
       "      <td>51462</td>\n",
       "      <td>Male</td>\n",
       "      <td>Socjopalista</td>\n",
       "      <td>www.margonem.pl/obrazki/postacie/woj/10/m_woj0...</td>\n",
       "      <td>290</td>\n",
       "      <td>Wojownik</td>\n",
       "      <td>Aldous</td>\n",
       "      <td>NaN</td>\n",
       "      <td>0</td>\n",
       "      <td>774087</td>\n",
       "    </tr>\n",
       "    <tr>\n",
       "      <th>4</th>\n",
       "      <td>48164</td>\n",
       "      <td>Male</td>\n",
       "      <td>Szczurołapek</td>\n",
       "      <td>www.margonem.pl/obrazki/postacie/paid/grzyb_ou...</td>\n",
       "      <td>300</td>\n",
       "      <td>Tancerz ostrzy</td>\n",
       "      <td>Aldous</td>\n",
       "      <td>NaN</td>\n",
       "      <td>0</td>\n",
       "      <td>774087</td>\n",
       "    </tr>\n",
       "  </tbody>\n",
       "</table>\n",
       "</div>"
      ],
      "text/plain": [
       "       Id Gender         Nickname  \\\n",
       "0  363513   Male    Akceleratywny   \n",
       "1  363512   Male    Grzmotopędzik   \n",
       "2  381483   Male  odbijesechryzie   \n",
       "3   51462   Male     Socjopalista   \n",
       "4   48164   Male     Szczurołapek   \n",
       "\n",
       "                                             SkinUrl  Level      Profession  \\\n",
       "0  www.margonem.pl/obrazki/postacie/woj/10/m_woj0...    180        Wojownik   \n",
       "1  www.margonem.pl/obrazki/postacie/woj/10/m_woj0...    210        Wojownik   \n",
       "2  www.margonem.pl/obrazki/postacie/paid/grzyb_ou...    188             Mag   \n",
       "3  www.margonem.pl/obrazki/postacie/woj/10/m_woj0...    290        Wojownik   \n",
       "4  www.margonem.pl/obrazki/postacie/paid/grzyb_ou...    300  Tancerz ostrzy   \n",
       "\n",
       "    World Guild  GuildId  PlayerId  \n",
       "0  Aldous   NaN        0    774087  \n",
       "1  Aldous   NaN        0    774087  \n",
       "2  Aldous   NaN        0    774087  \n",
       "3  Aldous   NaN        0    774087  \n",
       "4  Aldous   NaN        0    774087  "
      ]
     },
     "execution_count": 3,
     "metadata": {},
     "output_type": "execute_result"
    }
   ],
   "source": [
    "df.head()"
   ]
  },
  {
   "cell_type": "code",
   "execution_count": 4,
   "metadata": {},
   "outputs": [
    {
     "data": {
      "text/plain": [
       "6"
      ]
     },
     "execution_count": 4,
     "metadata": {},
     "output_type": "execute_result"
    }
   ],
   "source": [
    "len(df['Profession'].unique())"
   ]
  },
  {
   "cell_type": "code",
   "execution_count": 5,
   "metadata": {},
   "outputs": [
    {
     "data": {
      "image/png": "[encoded data removed]",
      "text/plain": [
       "<Figure size 432x288 with 1 Axes>"
      ]
     },
     "metadata": {
      "needs_background": "light"
     },
     "output_type": "display_data"
    }
   ],
   "source": [
    "gb = df.groupby('SkinUrl')['Profession'].unique().str.len().hist(bins=100)"
   ]
  },
  {
   "cell_type": "markdown",
   "metadata": {},
   "source": [
    "Some skins can be used for more than one character class"
   ]
  },
  {
   "cell_type": "code",
   "execution_count": 6,
   "metadata": {},
   "outputs": [
    {
     "data": {
      "text/plain": [
       "<matplotlib.axes._subplots.AxesSubplot at 0x234b636f7f0>"
      ]
     },
     "execution_count": 6,
     "metadata": {},
     "output_type": "execute_result"
    },
    {
     "data": {
      "image/png": "[encoded data removed]",
      "text/plain": [
       "<Figure size 432x288 with 1 Axes>"
      ]
     },
     "metadata": {
      "needs_background": "light"
     },
     "output_type": "display_data"
    }
   ],
   "source": [
    "df.groupby('SkinUrl')['Gender'].unique().str.len().hist()"
   ]
  },
  {
   "cell_type": "markdown",
   "metadata": {},
   "source": [
    "Some skins can be used by both genders."
   ]
  },
  {
   "cell_type": "code",
   "execution_count": 7,
   "metadata": {},
   "outputs": [
    {
     "data": {
      "text/html": [
       "<div>\n",
       "<style scoped>\n",
       "    .dataframe tbody tr th:only-of-type {\n",
       "        vertical-align: middle;\n",
       "    }\n",
       "\n",
       "    .dataframe tbody tr th {\n",
       "        vertical-align: top;\n",
       "    }\n",
       "\n",
       "    .dataframe thead th {\n",
       "        text-align: right;\n",
       "    }\n",
       "</style>\n",
       "<table border=\"1\" class=\"dataframe\">\n",
       "  <thead>\n",
       "    <tr style=\"text-align: right;\">\n",
       "      <th>Profession</th>\n",
       "      <th>Mag</th>\n",
       "      <th>Paladyn</th>\n",
       "      <th>Tancerz ostrzy</th>\n",
       "      <th>Tropiciel</th>\n",
       "      <th>Wojownik</th>\n",
       "      <th>Łowca</th>\n",
       "    </tr>\n",
       "    <tr>\n",
       "      <th>SkinUrl</th>\n",
       "      <th></th>\n",
       "      <th></th>\n",
       "      <th></th>\n",
       "      <th></th>\n",
       "      <th></th>\n",
       "      <th></th>\n",
       "    </tr>\n",
       "  </thead>\n",
       "  <tbody>\n",
       "    <tr>\n",
       "      <th>www.margonem.pl/obrazki/postacie/bd/10/f_bd09.gif</th>\n",
       "      <td>0.0</td>\n",
       "      <td>0.0</td>\n",
       "      <td>0.999369</td>\n",
       "      <td>0.0</td>\n",
       "      <td>0.000631</td>\n",
       "      <td>0.0</td>\n",
       "    </tr>\n",
       "    <tr>\n",
       "      <th>www.margonem.pl/obrazki/postacie/bd/10/f_bd18.gif</th>\n",
       "      <td>0.0</td>\n",
       "      <td>0.0</td>\n",
       "      <td>1.000000</td>\n",
       "      <td>0.0</td>\n",
       "      <td>0.000000</td>\n",
       "      <td>0.0</td>\n",
       "    </tr>\n",
       "    <tr>\n",
       "      <th>www.margonem.pl/obrazki/postacie/bd/10/m_bd01.gif</th>\n",
       "      <td>0.0</td>\n",
       "      <td>0.0</td>\n",
       "      <td>1.000000</td>\n",
       "      <td>0.0</td>\n",
       "      <td>0.000000</td>\n",
       "      <td>0.0</td>\n",
       "    </tr>\n",
       "    <tr>\n",
       "      <th>www.margonem.pl/obrazki/postacie/bd/10/m_bd04.gif</th>\n",
       "      <td>0.0</td>\n",
       "      <td>0.0</td>\n",
       "      <td>0.999824</td>\n",
       "      <td>0.0</td>\n",
       "      <td>0.000176</td>\n",
       "      <td>0.0</td>\n",
       "    </tr>\n",
       "    <tr>\n",
       "      <th>www.margonem.pl/obrazki/postacie/bd/100/f_bd04.gif</th>\n",
       "      <td>0.0</td>\n",
       "      <td>0.0</td>\n",
       "      <td>1.000000</td>\n",
       "      <td>0.0</td>\n",
       "      <td>0.000000</td>\n",
       "      <td>0.0</td>\n",
       "    </tr>\n",
       "  </tbody>\n",
       "</table>\n",
       "</div>"
      ],
      "text/plain": [
       "Profession                                          Mag  Paladyn  \\\n",
       "SkinUrl                                                            \n",
       "www.margonem.pl/obrazki/postacie/bd/10/f_bd09.gif   0.0      0.0   \n",
       "www.margonem.pl/obrazki/postacie/bd/10/f_bd18.gif   0.0      0.0   \n",
       "www.margonem.pl/obrazki/postacie/bd/10/m_bd01.gif   0.0      0.0   \n",
       "www.margonem.pl/obrazki/postacie/bd/10/m_bd04.gif   0.0      0.0   \n",
       "www.margonem.pl/obrazki/postacie/bd/100/f_bd04.gif  0.0      0.0   \n",
       "\n",
       "Profession                                          Tancerz ostrzy  Tropiciel  \\\n",
       "SkinUrl                                                                         \n",
       "www.margonem.pl/obrazki/postacie/bd/10/f_bd09.gif         0.999369        0.0   \n",
       "www.margonem.pl/obrazki/postacie/bd/10/f_bd18.gif         1.000000        0.0   \n",
       "www.margonem.pl/obrazki/postacie/bd/10/m_bd01.gif         1.000000        0.0   \n",
       "www.margonem.pl/obrazki/postacie/bd/10/m_bd04.gif         0.999824        0.0   \n",
       "www.margonem.pl/obrazki/postacie/bd/100/f_bd04.gif        1.000000        0.0   \n",
       "\n",
       "Profession                                          Wojownik  Łowca  \n",
       "SkinUrl                                                              \n",
       "www.margonem.pl/obrazki/postacie/bd/10/f_bd09.gif   0.000631    0.0  \n",
       "www.margonem.pl/obrazki/postacie/bd/10/f_bd18.gif   0.000000    0.0  \n",
       "www.margonem.pl/obrazki/postacie/bd/10/m_bd01.gif   0.000000    0.0  \n",
       "www.margonem.pl/obrazki/postacie/bd/10/m_bd04.gif   0.000176    0.0  \n",
       "www.margonem.pl/obrazki/postacie/bd/100/f_bd04.gif  0.000000    0.0  "
      ]
     },
     "execution_count": 7,
     "metadata": {},
     "output_type": "execute_result"
    }
   ],
   "source": [
    "gb = df.groupby('SkinUrl')['Profession'].value_counts()\n",
    "gb = gb / df.groupby('SkinUrl')['Profession'].count()\n",
    "skin_class_encodings = gb.unstack(level=1).fillna(0.0)\n",
    "skin_class_encodings.head()"
   ]
  },
  {
   "cell_type": "code",
   "execution_count": 8,
   "metadata": {},
   "outputs": [
    {
     "data": {
      "text/html": [
       "<div>\n",
       "<style scoped>\n",
       "    .dataframe tbody tr th:only-of-type {\n",
       "        vertical-align: middle;\n",
       "    }\n",
       "\n",
       "    .dataframe tbody tr th {\n",
       "        vertical-align: top;\n",
       "    }\n",
       "\n",
       "    .dataframe thead th {\n",
       "        text-align: right;\n",
       "    }\n",
       "</style>\n",
       "<table border=\"1\" class=\"dataframe\">\n",
       "  <thead>\n",
       "    <tr style=\"text-align: right;\">\n",
       "      <th>Gender</th>\n",
       "      <th>Female</th>\n",
       "      <th>Male</th>\n",
       "    </tr>\n",
       "    <tr>\n",
       "      <th>SkinUrl</th>\n",
       "      <th></th>\n",
       "      <th></th>\n",
       "    </tr>\n",
       "  </thead>\n",
       "  <tbody>\n",
       "    <tr>\n",
       "      <th>www.margonem.pl/obrazki/postacie/bd/10/f_bd09.gif</th>\n",
       "      <td>1.0</td>\n",
       "      <td>0.0</td>\n",
       "    </tr>\n",
       "    <tr>\n",
       "      <th>www.margonem.pl/obrazki/postacie/bd/10/f_bd18.gif</th>\n",
       "      <td>1.0</td>\n",
       "      <td>0.0</td>\n",
       "    </tr>\n",
       "    <tr>\n",
       "      <th>www.margonem.pl/obrazki/postacie/bd/10/m_bd01.gif</th>\n",
       "      <td>0.0</td>\n",
       "      <td>1.0</td>\n",
       "    </tr>\n",
       "    <tr>\n",
       "      <th>www.margonem.pl/obrazki/postacie/bd/10/m_bd04.gif</th>\n",
       "      <td>0.0</td>\n",
       "      <td>1.0</td>\n",
       "    </tr>\n",
       "    <tr>\n",
       "      <th>www.margonem.pl/obrazki/postacie/bd/100/f_bd04.gif</th>\n",
       "      <td>1.0</td>\n",
       "      <td>0.0</td>\n",
       "    </tr>\n",
       "  </tbody>\n",
       "</table>\n",
       "</div>"
      ],
      "text/plain": [
       "Gender                                              Female  Male\n",
       "SkinUrl                                                         \n",
       "www.margonem.pl/obrazki/postacie/bd/10/f_bd09.gif      1.0   0.0\n",
       "www.margonem.pl/obrazki/postacie/bd/10/f_bd18.gif      1.0   0.0\n",
       "www.margonem.pl/obrazki/postacie/bd/10/m_bd01.gif      0.0   1.0\n",
       "www.margonem.pl/obrazki/postacie/bd/10/m_bd04.gif      0.0   1.0\n",
       "www.margonem.pl/obrazki/postacie/bd/100/f_bd04.gif     1.0   0.0"
      ]
     },
     "execution_count": 8,
     "metadata": {},
     "output_type": "execute_result"
    }
   ],
   "source": [
    "gb = df.groupby('SkinUrl')['Gender'].value_counts()\n",
    "gb = gb / df.groupby('SkinUrl')['Gender'].count()\n",
    "skin_gender_encodings = gb.unstack(level=1).fillna(0.0)\n",
    "skin_gender_encodings.head()"
   ]
  },
  {
   "cell_type": "code",
   "execution_count": 9,
   "metadata": {},
   "outputs": [
    {
     "data": {
      "text/html": [
       "<div>\n",
       "<style scoped>\n",
       "    .dataframe tbody tr th:only-of-type {\n",
       "        vertical-align: middle;\n",
       "    }\n",
       "\n",
       "    .dataframe tbody tr th {\n",
       "        vertical-align: top;\n",
       "    }\n",
       "\n",
       "    .dataframe thead th {\n",
       "        text-align: right;\n",
       "    }\n",
       "</style>\n",
       "<table border=\"1\" class=\"dataframe\">\n",
       "  <thead>\n",
       "    <tr style=\"text-align: right;\">\n",
       "      <th>Gender</th>\n",
       "      <th>Female</th>\n",
       "      <th>Male</th>\n",
       "    </tr>\n",
       "    <tr>\n",
       "      <th>SkinUrl</th>\n",
       "      <th></th>\n",
       "      <th></th>\n",
       "    </tr>\n",
       "  </thead>\n",
       "  <tbody>\n",
       "    <tr>\n",
       "      <th>www.margonem.pl/obrazki/postacie/crimson/wf.gif</th>\n",
       "      <td>0.995851</td>\n",
       "      <td>0.004149</td>\n",
       "    </tr>\n",
       "    <tr>\n",
       "      <th>www.margonem.pl/obrazki/postacie/noob/bm.gif</th>\n",
       "      <td>0.000109</td>\n",
       "      <td>0.999891</td>\n",
       "    </tr>\n",
       "    <tr>\n",
       "      <th>www.margonem.pl/obrazki/postacie/noob/hm.gif</th>\n",
       "      <td>0.000049</td>\n",
       "      <td>0.999951</td>\n",
       "    </tr>\n",
       "    <tr>\n",
       "      <th>www.margonem.pl/obrazki/postacie/noob/mm.gif</th>\n",
       "      <td>0.000024</td>\n",
       "      <td>0.999976</td>\n",
       "    </tr>\n",
       "    <tr>\n",
       "      <th>www.margonem.pl/obrazki/postacie/paid-new/bdf01.gif</th>\n",
       "      <td>0.612069</td>\n",
       "      <td>0.387931</td>\n",
       "    </tr>\n",
       "    <tr>\n",
       "      <th>...</th>\n",
       "      <td>...</td>\n",
       "      <td>...</td>\n",
       "    </tr>\n",
       "    <tr>\n",
       "      <th>www.margonem.pl/obrazki/postacie/vip/arraf.gif</th>\n",
       "      <td>0.250000</td>\n",
       "      <td>0.750000</td>\n",
       "    </tr>\n",
       "    <tr>\n",
       "      <th>www.margonem.pl/obrazki/postacie/vip/otchlan_s1_d.gif</th>\n",
       "      <td>0.600000</td>\n",
       "      <td>0.400000</td>\n",
       "    </tr>\n",
       "    <tr>\n",
       "      <th>www.margonem.pl/obrazki/postacie/vip/otchlan_s1_m.gif</th>\n",
       "      <td>0.086538</td>\n",
       "      <td>0.913462</td>\n",
       "    </tr>\n",
       "    <tr>\n",
       "      <th>www.margonem.pl/obrazki/postacie/vip/revox.gif</th>\n",
       "      <td>0.500000</td>\n",
       "      <td>0.500000</td>\n",
       "    </tr>\n",
       "    <tr>\n",
       "      <th>www.margonem.pl/obrazki/postacie/vip/zloty.gif</th>\n",
       "      <td>0.058824</td>\n",
       "      <td>0.941176</td>\n",
       "    </tr>\n",
       "  </tbody>\n",
       "</table>\n",
       "<p>1285 rows × 2 columns</p>\n",
       "</div>"
      ],
      "text/plain": [
       "Gender                                                Female      Male\n",
       "SkinUrl                                                               \n",
       "www.margonem.pl/obrazki/postacie/crimson/wf.gif     0.995851  0.004149\n",
       "www.margonem.pl/obrazki/postacie/noob/bm.gif        0.000109  0.999891\n",
       "www.margonem.pl/obrazki/postacie/noob/hm.gif        0.000049  0.999951\n",
       "www.margonem.pl/obrazki/postacie/noob/mm.gif        0.000024  0.999976\n",
       "www.margonem.pl/obrazki/postacie/paid-new/bdf01...  0.612069  0.387931\n",
       "...                                                      ...       ...\n",
       "www.margonem.pl/obrazki/postacie/vip/arraf.gif      0.250000  0.750000\n",
       "www.margonem.pl/obrazki/postacie/vip/otchlan_s1...  0.600000  0.400000\n",
       "www.margonem.pl/obrazki/postacie/vip/otchlan_s1...  0.086538  0.913462\n",
       "www.margonem.pl/obrazki/postacie/vip/revox.gif      0.500000  0.500000\n",
       "www.margonem.pl/obrazki/postacie/vip/zloty.gif      0.058824  0.941176\n",
       "\n",
       "[1285 rows x 2 columns]"
      ]
     },
     "execution_count": 9,
     "metadata": {},
     "output_type": "execute_result"
    }
   ],
   "source": [
    "skin_gender_encodings[(skin_gender_encodings['Female'] != 1.0) & (skin_gender_encodings['Female'] != 0.0)]"
   ]
  },
  {
   "cell_type": "code",
   "execution_count": 10,
   "metadata": {},
   "outputs": [
    {
     "data": {
      "text/html": [
       "<div>\n",
       "<style scoped>\n",
       "    .dataframe tbody tr th:only-of-type {\n",
       "        vertical-align: middle;\n",
       "    }\n",
       "\n",
       "    .dataframe tbody tr th {\n",
       "        vertical-align: top;\n",
       "    }\n",
       "\n",
       "    .dataframe thead th {\n",
       "        text-align: right;\n",
       "    }\n",
       "</style>\n",
       "<table border=\"1\" class=\"dataframe\">\n",
       "  <thead>\n",
       "    <tr style=\"text-align: right;\">\n",
       "      <th></th>\n",
       "      <th>Female</th>\n",
       "      <th>Male</th>\n",
       "      <th>Mag</th>\n",
       "      <th>Paladyn</th>\n",
       "      <th>Tancerz ostrzy</th>\n",
       "      <th>Tropiciel</th>\n",
       "      <th>Wojownik</th>\n",
       "      <th>Łowca</th>\n",
       "    </tr>\n",
       "    <tr>\n",
       "      <th>SkinUrl</th>\n",
       "      <th></th>\n",
       "      <th></th>\n",
       "      <th></th>\n",
       "      <th></th>\n",
       "      <th></th>\n",
       "      <th></th>\n",
       "      <th></th>\n",
       "      <th></th>\n",
       "    </tr>\n",
       "  </thead>\n",
       "  <tbody>\n",
       "    <tr>\n",
       "      <th>https://www.margonem.pl/obrazki/postacie/bd/10/f_bd09.gif</th>\n",
       "      <td>1.0</td>\n",
       "      <td>0.0</td>\n",
       "      <td>0.0</td>\n",
       "      <td>0.0</td>\n",
       "      <td>0.999369</td>\n",
       "      <td>0.0</td>\n",
       "      <td>0.000631</td>\n",
       "      <td>0.0</td>\n",
       "    </tr>\n",
       "    <tr>\n",
       "      <th>https://www.margonem.pl/obrazki/postacie/bd/10/f_bd18.gif</th>\n",
       "      <td>1.0</td>\n",
       "      <td>0.0</td>\n",
       "      <td>0.0</td>\n",
       "      <td>0.0</td>\n",
       "      <td>1.000000</td>\n",
       "      <td>0.0</td>\n",
       "      <td>0.000000</td>\n",
       "      <td>0.0</td>\n",
       "    </tr>\n",
       "    <tr>\n",
       "      <th>https://www.margonem.pl/obrazki/postacie/bd/10/m_bd01.gif</th>\n",
       "      <td>0.0</td>\n",
       "      <td>1.0</td>\n",
       "      <td>0.0</td>\n",
       "      <td>0.0</td>\n",
       "      <td>1.000000</td>\n",
       "      <td>0.0</td>\n",
       "      <td>0.000000</td>\n",
       "      <td>0.0</td>\n",
       "    </tr>\n",
       "    <tr>\n",
       "      <th>https://www.margonem.pl/obrazki/postacie/bd/10/m_bd04.gif</th>\n",
       "      <td>0.0</td>\n",
       "      <td>1.0</td>\n",
       "      <td>0.0</td>\n",
       "      <td>0.0</td>\n",
       "      <td>0.999824</td>\n",
       "      <td>0.0</td>\n",
       "      <td>0.000176</td>\n",
       "      <td>0.0</td>\n",
       "    </tr>\n",
       "    <tr>\n",
       "      <th>https://www.margonem.pl/obrazki/postacie/bd/100/f_bd04.gif</th>\n",
       "      <td>1.0</td>\n",
       "      <td>0.0</td>\n",
       "      <td>0.0</td>\n",
       "      <td>0.0</td>\n",
       "      <td>1.000000</td>\n",
       "      <td>0.0</td>\n",
       "      <td>0.000000</td>\n",
       "      <td>0.0</td>\n",
       "    </tr>\n",
       "    <tr>\n",
       "      <th>...</th>\n",
       "      <td>...</td>\n",
       "      <td>...</td>\n",
       "      <td>...</td>\n",
       "      <td>...</td>\n",
       "      <td>...</td>\n",
       "      <td>...</td>\n",
       "      <td>...</td>\n",
       "      <td>...</td>\n",
       "    </tr>\n",
       "    <tr>\n",
       "      <th>https://www.margonem.pl/obrazki/postacie/woj/90/f_woj17.gif</th>\n",
       "      <td>1.0</td>\n",
       "      <td>0.0</td>\n",
       "      <td>0.0</td>\n",
       "      <td>0.0</td>\n",
       "      <td>0.000000</td>\n",
       "      <td>0.0</td>\n",
       "      <td>1.000000</td>\n",
       "      <td>0.0</td>\n",
       "    </tr>\n",
       "    <tr>\n",
       "      <th>https://www.margonem.pl/obrazki/postacie/woj/90/f_woj18.gif</th>\n",
       "      <td>1.0</td>\n",
       "      <td>0.0</td>\n",
       "      <td>0.0</td>\n",
       "      <td>0.0</td>\n",
       "      <td>0.000000</td>\n",
       "      <td>0.0</td>\n",
       "      <td>1.000000</td>\n",
       "      <td>0.0</td>\n",
       "    </tr>\n",
       "    <tr>\n",
       "      <th>https://www.margonem.pl/obrazki/postacie/woj/90/m_woj25.gif</th>\n",
       "      <td>0.0</td>\n",
       "      <td>1.0</td>\n",
       "      <td>0.0</td>\n",
       "      <td>0.0</td>\n",
       "      <td>0.000000</td>\n",
       "      <td>0.0</td>\n",
       "      <td>1.000000</td>\n",
       "      <td>0.0</td>\n",
       "    </tr>\n",
       "    <tr>\n",
       "      <th>https://www.margonem.pl/obrazki/postacie/woj/90/m_woj26.gif</th>\n",
       "      <td>0.0</td>\n",
       "      <td>1.0</td>\n",
       "      <td>0.0</td>\n",
       "      <td>0.0</td>\n",
       "      <td>0.000000</td>\n",
       "      <td>0.0</td>\n",
       "      <td>1.000000</td>\n",
       "      <td>0.0</td>\n",
       "    </tr>\n",
       "    <tr>\n",
       "      <th>https://www.margonem.pl/obrazki/postacie/xentis1.gif</th>\n",
       "      <td>0.0</td>\n",
       "      <td>1.0</td>\n",
       "      <td>0.6</td>\n",
       "      <td>0.0</td>\n",
       "      <td>0.200000</td>\n",
       "      <td>0.2</td>\n",
       "      <td>0.000000</td>\n",
       "      <td>0.0</td>\n",
       "    </tr>\n",
       "  </tbody>\n",
       "</table>\n",
       "<p>3996 rows × 8 columns</p>\n",
       "</div>"
      ],
      "text/plain": [
       "                                                    Female  Male  Mag  \\\n",
       "SkinUrl                                                                 \n",
       "https://www.margonem.pl/obrazki/postacie/bd/10/...     1.0   0.0  0.0   \n",
       "https://www.margonem.pl/obrazki/postacie/bd/10/...     1.0   0.0  0.0   \n",
       "https://www.margonem.pl/obrazki/postacie/bd/10/...     0.0   1.0  0.0   \n",
       "https://www.margonem.pl/obrazki/postacie/bd/10/...     0.0   1.0  0.0   \n",
       "https://www.margonem.pl/obrazki/postacie/bd/100...     1.0   0.0  0.0   \n",
       "...                                                    ...   ...  ...   \n",
       "https://www.margonem.pl/obrazki/postacie/woj/90...     1.0   0.0  0.0   \n",
       "https://www.margonem.pl/obrazki/postacie/woj/90...     1.0   0.0  0.0   \n",
       "https://www.margonem.pl/obrazki/postacie/woj/90...     0.0   1.0  0.0   \n",
       "https://www.margonem.pl/obrazki/postacie/woj/90...     0.0   1.0  0.0   \n",
       "https://www.margonem.pl/obrazki/postacie/xentis...     0.0   1.0  0.6   \n",
       "\n",
       "                                                    Paladyn  Tancerz ostrzy  \\\n",
       "SkinUrl                                                                       \n",
       "https://www.margonem.pl/obrazki/postacie/bd/10/...      0.0        0.999369   \n",
       "https://www.margonem.pl/obrazki/postacie/bd/10/...      0.0        1.000000   \n",
       "https://www.margonem.pl/obrazki/postacie/bd/10/...      0.0        1.000000   \n",
       "https://www.margonem.pl/obrazki/postacie/bd/10/...      0.0        0.999824   \n",
       "https://www.margonem.pl/obrazki/postacie/bd/100...      0.0        1.000000   \n",
       "...                                                     ...             ...   \n",
       "https://www.margonem.pl/obrazki/postacie/woj/90...      0.0        0.000000   \n",
       "https://www.margonem.pl/obrazki/postacie/woj/90...      0.0        0.000000   \n",
       "https://www.margonem.pl/obrazki/postacie/woj/90...      0.0        0.000000   \n",
       "https://www.margonem.pl/obrazki/postacie/woj/90...      0.0        0.000000   \n",
       "https://www.margonem.pl/obrazki/postacie/xentis...      0.0        0.200000   \n",
       "\n",
       "                                                    Tropiciel  Wojownik  Łowca  \n",
       "SkinUrl                                                                         \n",
       "https://www.margonem.pl/obrazki/postacie/bd/10/...        0.0  0.000631    0.0  \n",
       "https://www.margonem.pl/obrazki/postacie/bd/10/...        0.0  0.000000    0.0  \n",
       "https://www.margonem.pl/obrazki/postacie/bd/10/...        0.0  0.000000    0.0  \n",
       "https://www.margonem.pl/obrazki/postacie/bd/10/...        0.0  0.000176    0.0  \n",
       "https://www.margonem.pl/obrazki/postacie/bd/100...        0.0  0.000000    0.0  \n",
       "...                                                       ...       ...    ...  \n",
       "https://www.margonem.pl/obrazki/postacie/woj/90...        0.0  1.000000    0.0  \n",
       "https://www.margonem.pl/obrazki/postacie/woj/90...        0.0  1.000000    0.0  \n",
       "https://www.margonem.pl/obrazki/postacie/woj/90...        0.0  1.000000    0.0  \n",
       "https://www.margonem.pl/obrazki/postacie/woj/90...        0.0  1.000000    0.0  \n",
       "https://www.margonem.pl/obrazki/postacie/xentis...        0.2  0.000000    0.0  \n",
       "\n",
       "[3996 rows x 8 columns]"
      ]
     },
     "execution_count": 10,
     "metadata": {},
     "output_type": "execute_result"
    }
   ],
   "source": [
    "encodings = skin_gender_encodings.join(skin_class_encodings)\n",
    "encodings.index = 'https://' + encodings.index\n",
    "encodings"
   ]
  },
  {
   "cell_type": "code",
   "execution_count": 11,
   "metadata": {},
   "outputs": [],
   "source": [
    "encodings.to_csv('Data/SkinLabelsEncodings.csv')"
   ]
  },
  {
   "cell_type": "code",
   "execution_count": 12,
   "metadata": {},
   "outputs": [
    {
     "data": {
      "text/plain": [
       "<matplotlib.axes._subplots.AxesSubplot at 0x234b65e6438>"
      ]
     },
     "execution_count": 12,
     "metadata": {},
     "output_type": "execute_result"
    },
    {
     "data": {
      "image/png": "[encoded data removed]",
      "text/plain": [
       "<Figure size 432x288 with 1 Axes>"
      ]
     },
     "metadata": {
      "needs_background": "light"
     },
     "output_type": "display_data"
    }
   ],
   "source": [
    "level_mean = df.groupby('SkinUrl')['Level'].mean()\n",
    "level_mean.hist()"
   ]
  },
  {
   "cell_type": "code",
   "execution_count": 13,
   "metadata": {},
   "outputs": [
    {
     "data": {
      "text/plain": [
       "<matplotlib.axes._subplots.AxesSubplot at 0x234b665d860>"
      ]
     },
     "execution_count": 13,
     "metadata": {},
     "output_type": "execute_result"
    },
    {
     "data": {
      "image/png": "[encoded data removed]",
      "text/plain": [
       "<Figure size 432x288 with 1 Axes>"
      ]
     },
     "metadata": {
      "needs_background": "light"
     },
     "output_type": "display_data"
    }
   ],
   "source": [
    "level_std = df.groupby('SkinUrl')['Level'].std()\n",
    "level_std.hist()"
   ]
  },
  {
   "cell_type": "code",
   "execution_count": 14,
   "metadata": {},
   "outputs": [
    {
     "data": {
      "text/html": [
       "<div>\n",
       "<style scoped>\n",
       "    .dataframe tbody tr th:only-of-type {\n",
       "        vertical-align: middle;\n",
       "    }\n",
       "\n",
       "    .dataframe tbody tr th {\n",
       "        vertical-align: top;\n",
       "    }\n",
       "\n",
       "    .dataframe thead th {\n",
       "        text-align: right;\n",
       "    }\n",
       "</style>\n",
       "<table border=\"1\" class=\"dataframe\">\n",
       "  <thead>\n",
       "    <tr style=\"text-align: right;\">\n",
       "      <th></th>\n",
       "      <th>LevelMean</th>\n",
       "      <th>LevelStd</th>\n",
       "    </tr>\n",
       "    <tr>\n",
       "      <th>SkinUrl</th>\n",
       "      <th></th>\n",
       "      <th></th>\n",
       "    </tr>\n",
       "  </thead>\n",
       "  <tbody>\n",
       "    <tr>\n",
       "      <th>www.margonem.pl/obrazki/postacie/bd/10/f_bd09.gif</th>\n",
       "      <td>23.070618</td>\n",
       "      <td>20.493657</td>\n",
       "    </tr>\n",
       "    <tr>\n",
       "      <th>www.margonem.pl/obrazki/postacie/bd/10/f_bd18.gif</th>\n",
       "      <td>21.751515</td>\n",
       "      <td>18.608396</td>\n",
       "    </tr>\n",
       "    <tr>\n",
       "      <th>www.margonem.pl/obrazki/postacie/bd/10/m_bd01.gif</th>\n",
       "      <td>24.501012</td>\n",
       "      <td>22.965886</td>\n",
       "    </tr>\n",
       "    <tr>\n",
       "      <th>www.margonem.pl/obrazki/postacie/bd/10/m_bd04.gif</th>\n",
       "      <td>21.099156</td>\n",
       "      <td>18.200252</td>\n",
       "    </tr>\n",
       "    <tr>\n",
       "      <th>www.margonem.pl/obrazki/postacie/bd/100/f_bd04.gif</th>\n",
       "      <td>131.000000</td>\n",
       "      <td>39.908549</td>\n",
       "    </tr>\n",
       "  </tbody>\n",
       "</table>\n",
       "</div>"
      ],
      "text/plain": [
       "                                                     LevelMean   LevelStd\n",
       "SkinUrl                                                                  \n",
       "www.margonem.pl/obrazki/postacie/bd/10/f_bd09.gif    23.070618  20.493657\n",
       "www.margonem.pl/obrazki/postacie/bd/10/f_bd18.gif    21.751515  18.608396\n",
       "www.margonem.pl/obrazki/postacie/bd/10/m_bd01.gif    24.501012  22.965886\n",
       "www.margonem.pl/obrazki/postacie/bd/10/m_bd04.gif    21.099156  18.200252\n",
       "www.margonem.pl/obrazki/postacie/bd/100/f_bd04.gif  131.000000  39.908549"
      ]
     },
     "execution_count": 14,
     "metadata": {},
     "output_type": "execute_result"
    }
   ],
   "source": [
    "statistics = pd.DataFrame({'LevelMean': level_mean, 'LevelStd': level_std})\n",
    "statistics.head()"
   ]
  },
  {
   "cell_type": "code",
   "execution_count": 15,
   "metadata": {},
   "outputs": [],
   "source": [
    "statistics.to_csv('Data/SkinStatistics.csv')"
   ]
  }
 ],
 "metadata": {
  "kernelspec": {
   "display_name": "Python 3",
   "language": "python",
   "name": "python3"
  },
  "language_info": {
   "codemirror_mode": {
    "name": "ipython",
    "version": 3
   },
   "file_extension": ".py",
   "mimetype": "text/x-python",
   "name": "python",
   "nbconvert_exporter": "python",
   "pygments_lexer": "ipython3",
   "version": "3.7.3"
  }
 },
 "nbformat": 4,
 "nbformat_minor": 2
}
