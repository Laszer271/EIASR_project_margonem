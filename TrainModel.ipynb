{
 "cells": [
  {
   "cell_type": "code",
   "execution_count": 103,
   "metadata": {},
   "outputs": [],
   "source": [
    "import pandas as pd\n",
    "import numpy as np\n",
    "import tensorflow as tf\n",
    "from sklearn.model_selection import train_test_split\n",
    "import matplotlib.pyplot as plt"
   ]
  },
  {
   "cell_type": "markdown",
   "metadata": {},
   "source": [
    "<h2>Handling data</h2>"
   ]
  },
  {
   "cell_type": "code",
   "execution_count": 56,
   "metadata": {},
   "outputs": [],
   "source": [
    "dataset = np.load('Data/dataset.npy')\n",
    "images_paths = pd.read_csv('Data/images_paths.csv', index_col=None).squeeze()"
   ]
  },
  {
   "cell_type": "code",
   "execution_count": 57,
   "metadata": {},
   "outputs": [
    {
     "data": {
      "text/plain": [
       "(3862, 48, 32, 4)"
      ]
     },
     "execution_count": 57,
     "metadata": {},
     "output_type": "execute_result"
    }
   ],
   "source": [
    "dataset.shape"
   ]
  },
  {
   "cell_type": "code",
   "execution_count": 58,
   "metadata": {},
   "outputs": [],
   "source": [
    "labels = pd.read_csv('Data/SkinLabelsEncodings.csv', index_col=0)"
   ]
  },
  {
   "cell_type": "code",
   "execution_count": 59,
   "metadata": {},
   "outputs": [
    {
     "data": {
      "text/plain": [
       "(3996, 8)"
      ]
     },
     "execution_count": 59,
     "metadata": {},
     "output_type": "execute_result"
    }
   ],
   "source": [
    "labels.shape"
   ]
  },
  {
   "cell_type": "code",
   "execution_count": 60,
   "metadata": {},
   "outputs": [
    {
     "data": {
      "text/html": [
       "<div>\n",
       "<style scoped>\n",
       "    .dataframe tbody tr th:only-of-type {\n",
       "        vertical-align: middle;\n",
       "    }\n",
       "\n",
       "    .dataframe tbody tr th {\n",
       "        vertical-align: top;\n",
       "    }\n",
       "\n",
       "    .dataframe thead th {\n",
       "        text-align: right;\n",
       "    }\n",
       "</style>\n",
       "<table border=\"1\" class=\"dataframe\">\n",
       "  <thead>\n",
       "    <tr style=\"text-align: right;\">\n",
       "      <th></th>\n",
       "      <th>Female</th>\n",
       "      <th>Male</th>\n",
       "      <th>Mag</th>\n",
       "      <th>Paladyn</th>\n",
       "      <th>Tancerz ostrzy</th>\n",
       "      <th>Tropiciel</th>\n",
       "      <th>Wojownik</th>\n",
       "      <th>Łowca</th>\n",
       "    </tr>\n",
       "    <tr>\n",
       "      <th>SkinUrl</th>\n",
       "      <th></th>\n",
       "      <th></th>\n",
       "      <th></th>\n",
       "      <th></th>\n",
       "      <th></th>\n",
       "      <th></th>\n",
       "      <th></th>\n",
       "      <th></th>\n",
       "    </tr>\n",
       "  </thead>\n",
       "  <tbody>\n",
       "    <tr>\n",
       "      <th>https://www.margonem.pl/obrazki/postacie/bd/10/f_bd09.gif</th>\n",
       "      <td>1.0</td>\n",
       "      <td>0.0</td>\n",
       "      <td>0.0</td>\n",
       "      <td>0.0</td>\n",
       "      <td>0.999369</td>\n",
       "      <td>0.0</td>\n",
       "      <td>0.000631</td>\n",
       "      <td>0.0</td>\n",
       "    </tr>\n",
       "    <tr>\n",
       "      <th>https://www.margonem.pl/obrazki/postacie/bd/10/f_bd18.gif</th>\n",
       "      <td>1.0</td>\n",
       "      <td>0.0</td>\n",
       "      <td>0.0</td>\n",
       "      <td>0.0</td>\n",
       "      <td>1.000000</td>\n",
       "      <td>0.0</td>\n",
       "      <td>0.000000</td>\n",
       "      <td>0.0</td>\n",
       "    </tr>\n",
       "    <tr>\n",
       "      <th>https://www.margonem.pl/obrazki/postacie/bd/10/m_bd01.gif</th>\n",
       "      <td>0.0</td>\n",
       "      <td>1.0</td>\n",
       "      <td>0.0</td>\n",
       "      <td>0.0</td>\n",
       "      <td>1.000000</td>\n",
       "      <td>0.0</td>\n",
       "      <td>0.000000</td>\n",
       "      <td>0.0</td>\n",
       "    </tr>\n",
       "    <tr>\n",
       "      <th>https://www.margonem.pl/obrazki/postacie/bd/10/m_bd04.gif</th>\n",
       "      <td>0.0</td>\n",
       "      <td>1.0</td>\n",
       "      <td>0.0</td>\n",
       "      <td>0.0</td>\n",
       "      <td>0.999824</td>\n",
       "      <td>0.0</td>\n",
       "      <td>0.000176</td>\n",
       "      <td>0.0</td>\n",
       "    </tr>\n",
       "    <tr>\n",
       "      <th>https://www.margonem.pl/obrazki/postacie/bd/100/f_bd04.gif</th>\n",
       "      <td>1.0</td>\n",
       "      <td>0.0</td>\n",
       "      <td>0.0</td>\n",
       "      <td>0.0</td>\n",
       "      <td>1.000000</td>\n",
       "      <td>0.0</td>\n",
       "      <td>0.000000</td>\n",
       "      <td>0.0</td>\n",
       "    </tr>\n",
       "  </tbody>\n",
       "</table>\n",
       "</div>"
      ],
      "text/plain": [
       "                                                    Female  Male  Mag  \\\n",
       "SkinUrl                                                                 \n",
       "https://www.margonem.pl/obrazki/postacie/bd/10/...     1.0   0.0  0.0   \n",
       "https://www.margonem.pl/obrazki/postacie/bd/10/...     1.0   0.0  0.0   \n",
       "https://www.margonem.pl/obrazki/postacie/bd/10/...     0.0   1.0  0.0   \n",
       "https://www.margonem.pl/obrazki/postacie/bd/10/...     0.0   1.0  0.0   \n",
       "https://www.margonem.pl/obrazki/postacie/bd/100...     1.0   0.0  0.0   \n",
       "\n",
       "                                                    Paladyn  Tancerz ostrzy  \\\n",
       "SkinUrl                                                                       \n",
       "https://www.margonem.pl/obrazki/postacie/bd/10/...      0.0        0.999369   \n",
       "https://www.margonem.pl/obrazki/postacie/bd/10/...      0.0        1.000000   \n",
       "https://www.margonem.pl/obrazki/postacie/bd/10/...      0.0        1.000000   \n",
       "https://www.margonem.pl/obrazki/postacie/bd/10/...      0.0        0.999824   \n",
       "https://www.margonem.pl/obrazki/postacie/bd/100...      0.0        1.000000   \n",
       "\n",
       "                                                    Tropiciel  Wojownik  Łowca  \n",
       "SkinUrl                                                                         \n",
       "https://www.margonem.pl/obrazki/postacie/bd/10/...        0.0  0.000631    0.0  \n",
       "https://www.margonem.pl/obrazki/postacie/bd/10/...        0.0  0.000000    0.0  \n",
       "https://www.margonem.pl/obrazki/postacie/bd/10/...        0.0  0.000000    0.0  \n",
       "https://www.margonem.pl/obrazki/postacie/bd/10/...        0.0  0.000176    0.0  \n",
       "https://www.margonem.pl/obrazki/postacie/bd/100...        0.0  0.000000    0.0  "
      ]
     },
     "execution_count": 60,
     "metadata": {},
     "output_type": "execute_result"
    }
   ],
   "source": [
    "labels.head()"
   ]
  },
  {
   "cell_type": "code",
   "execution_count": 61,
   "metadata": {},
   "outputs": [
    {
     "data": {
      "text/plain": [
       "0         Data/Skins/vip/587080_2.gif\n",
       "1      Data/Skins/spec/valczemyna.gif\n",
       "2    Data/Skins/clan/zorza_10200m.gif\n",
       "3          Data/Skins/vip/3239014.gif\n",
       "4    Data/Skins/clan/zorza_10200f.gif\n",
       "Name: 0, dtype: object"
      ]
     },
     "execution_count": 61,
     "metadata": {},
     "output_type": "execute_result"
    }
   ],
   "source": [
    "images_paths.head()"
   ]
  },
  {
   "cell_type": "code",
   "execution_count": 62,
   "metadata": {},
   "outputs": [],
   "source": [
    "labels.index = 'Data/Skins/' + labels.index.str.replace('https://www.margonem.pl/obrazki/postacie/', '')"
   ]
  },
  {
   "cell_type": "code",
   "execution_count": 63,
   "metadata": {},
   "outputs": [
    {
     "data": {
      "text/html": [
       "<div>\n",
       "<style scoped>\n",
       "    .dataframe tbody tr th:only-of-type {\n",
       "        vertical-align: middle;\n",
       "    }\n",
       "\n",
       "    .dataframe tbody tr th {\n",
       "        vertical-align: top;\n",
       "    }\n",
       "\n",
       "    .dataframe thead th {\n",
       "        text-align: right;\n",
       "    }\n",
       "</style>\n",
       "<table border=\"1\" class=\"dataframe\">\n",
       "  <thead>\n",
       "    <tr style=\"text-align: right;\">\n",
       "      <th></th>\n",
       "      <th>Female</th>\n",
       "      <th>Male</th>\n",
       "      <th>Mag</th>\n",
       "      <th>Paladyn</th>\n",
       "      <th>Tancerz ostrzy</th>\n",
       "      <th>Tropiciel</th>\n",
       "      <th>Wojownik</th>\n",
       "      <th>Łowca</th>\n",
       "    </tr>\n",
       "    <tr>\n",
       "      <th>SkinUrl</th>\n",
       "      <th></th>\n",
       "      <th></th>\n",
       "      <th></th>\n",
       "      <th></th>\n",
       "      <th></th>\n",
       "      <th></th>\n",
       "      <th></th>\n",
       "      <th></th>\n",
       "    </tr>\n",
       "  </thead>\n",
       "  <tbody>\n",
       "    <tr>\n",
       "      <th>Data/Skins/bd/10/f_bd09.gif</th>\n",
       "      <td>1.0</td>\n",
       "      <td>0.0</td>\n",
       "      <td>0.0</td>\n",
       "      <td>0.0</td>\n",
       "      <td>0.999369</td>\n",
       "      <td>0.0</td>\n",
       "      <td>0.000631</td>\n",
       "      <td>0.0</td>\n",
       "    </tr>\n",
       "    <tr>\n",
       "      <th>Data/Skins/bd/10/f_bd18.gif</th>\n",
       "      <td>1.0</td>\n",
       "      <td>0.0</td>\n",
       "      <td>0.0</td>\n",
       "      <td>0.0</td>\n",
       "      <td>1.000000</td>\n",
       "      <td>0.0</td>\n",
       "      <td>0.000000</td>\n",
       "      <td>0.0</td>\n",
       "    </tr>\n",
       "    <tr>\n",
       "      <th>Data/Skins/bd/10/m_bd01.gif</th>\n",
       "      <td>0.0</td>\n",
       "      <td>1.0</td>\n",
       "      <td>0.0</td>\n",
       "      <td>0.0</td>\n",
       "      <td>1.000000</td>\n",
       "      <td>0.0</td>\n",
       "      <td>0.000000</td>\n",
       "      <td>0.0</td>\n",
       "    </tr>\n",
       "    <tr>\n",
       "      <th>Data/Skins/bd/10/m_bd04.gif</th>\n",
       "      <td>0.0</td>\n",
       "      <td>1.0</td>\n",
       "      <td>0.0</td>\n",
       "      <td>0.0</td>\n",
       "      <td>0.999824</td>\n",
       "      <td>0.0</td>\n",
       "      <td>0.000176</td>\n",
       "      <td>0.0</td>\n",
       "    </tr>\n",
       "    <tr>\n",
       "      <th>Data/Skins/bd/100/f_bd04.gif</th>\n",
       "      <td>1.0</td>\n",
       "      <td>0.0</td>\n",
       "      <td>0.0</td>\n",
       "      <td>0.0</td>\n",
       "      <td>1.000000</td>\n",
       "      <td>0.0</td>\n",
       "      <td>0.000000</td>\n",
       "      <td>0.0</td>\n",
       "    </tr>\n",
       "  </tbody>\n",
       "</table>\n",
       "</div>"
      ],
      "text/plain": [
       "                              Female  Male  Mag  Paladyn  Tancerz ostrzy  \\\n",
       "SkinUrl                                                                    \n",
       "Data/Skins/bd/10/f_bd09.gif      1.0   0.0  0.0      0.0        0.999369   \n",
       "Data/Skins/bd/10/f_bd18.gif      1.0   0.0  0.0      0.0        1.000000   \n",
       "Data/Skins/bd/10/m_bd01.gif      0.0   1.0  0.0      0.0        1.000000   \n",
       "Data/Skins/bd/10/m_bd04.gif      0.0   1.0  0.0      0.0        0.999824   \n",
       "Data/Skins/bd/100/f_bd04.gif     1.0   0.0  0.0      0.0        1.000000   \n",
       "\n",
       "                              Tropiciel  Wojownik  Łowca  \n",
       "SkinUrl                                                   \n",
       "Data/Skins/bd/10/f_bd09.gif         0.0  0.000631    0.0  \n",
       "Data/Skins/bd/10/f_bd18.gif         0.0  0.000000    0.0  \n",
       "Data/Skins/bd/10/m_bd01.gif         0.0  0.000000    0.0  \n",
       "Data/Skins/bd/10/m_bd04.gif         0.0  0.000176    0.0  \n",
       "Data/Skins/bd/100/f_bd04.gif        0.0  0.000000    0.0  "
      ]
     },
     "execution_count": 63,
     "metadata": {},
     "output_type": "execute_result"
    }
   ],
   "source": [
    "labels.head()"
   ]
  },
  {
   "cell_type": "code",
   "execution_count": 64,
   "metadata": {},
   "outputs": [],
   "source": [
    "labels = labels.loc[images_paths]"
   ]
  },
  {
   "cell_type": "code",
   "execution_count": 65,
   "metadata": {},
   "outputs": [
    {
     "data": {
      "text/plain": [
       "(3862,)"
      ]
     },
     "execution_count": 65,
     "metadata": {},
     "output_type": "execute_result"
    }
   ],
   "source": [
    "images_paths.shape"
   ]
  },
  {
   "cell_type": "code",
   "execution_count": 66,
   "metadata": {},
   "outputs": [
    {
     "data": {
      "text/plain": [
       "(3862, 8)"
      ]
     },
     "execution_count": 66,
     "metadata": {},
     "output_type": "execute_result"
    }
   ],
   "source": [
    "labels.shape"
   ]
  },
  {
   "cell_type": "markdown",
   "metadata": {},
   "source": [
    "For prototype let's just predict gender"
   ]
  },
  {
   "cell_type": "code",
   "execution_count": 67,
   "metadata": {},
   "outputs": [
    {
     "data": {
      "text/plain": [
       "SkinUrl\n",
       "Data/Skins/vip/587080_2.gif         1.000000\n",
       "Data/Skins/spec/valczemyna.gif      0.117647\n",
       "Data/Skins/clan/zorza_10200m.gif    0.000000\n",
       "Data/Skins/vip/3239014.gif          0.000000\n",
       "Data/Skins/clan/zorza_10200f.gif    1.000000\n",
       "Name: Female, dtype: float64"
      ]
     },
     "execution_count": 67,
     "metadata": {},
     "output_type": "execute_result"
    }
   ],
   "source": [
    "labels = labels['Female']\n",
    "labels.head()"
   ]
  },
  {
   "cell_type": "code",
   "execution_count": 91,
   "metadata": {},
   "outputs": [],
   "source": [
    "labels = labels.round() # for simplicity\n",
    "labels = np.array(labels)"
   ]
  },
  {
   "cell_type": "code",
   "execution_count": 92,
   "metadata": {},
   "outputs": [],
   "source": [
    "X_train, X_test, y_train, y_test = train_test_split(dataset, labels, test_size=0.2)"
   ]
  },
  {
   "cell_type": "code",
   "execution_count": 93,
   "metadata": {},
   "outputs": [
    {
     "name": "stdout",
     "output_type": "stream",
     "text": [
      "1.0\n",
      "-1.0\n"
     ]
    }
   ],
   "source": [
    "print(dataset.max())\n",
    "print(dataset.min())"
   ]
  },
  {
   "cell_type": "markdown",
   "metadata": {},
   "source": [
    "Dataset already normalized to [-1, 1]"
   ]
  },
  {
   "cell_type": "markdown",
   "metadata": {},
   "source": [
    "<h2>Defining Model</h2>"
   ]
  },
  {
   "cell_type": "code",
   "execution_count": 98,
   "metadata": {},
   "outputs": [
    {
     "data": {
      "text/plain": [
       "0.672449508026929"
      ]
     },
     "execution_count": 98,
     "metadata": {},
     "output_type": "execute_result"
    }
   ],
   "source": [
    "baseline_acc = (labels == 0.0).sum() / len(labels) # accuracy based on informed guess (informed about class probability)\n",
    "baseline_acc"
   ]
  },
  {
   "cell_type": "code",
   "execution_count": 139,
   "metadata": {},
   "outputs": [],
   "source": [
    "model = tf.keras.models.Sequential()\n",
    "#input: 48x32x4\n",
    "model.add(tf.keras.layers.Conv2D(16, (3, 3), padding='same', activation='relu', input_shape=dataset.shape[1:])) #48x32x16\n",
    "model.add(tf.keras.layers.Dropout(0.2))\n",
    "model.add(tf.keras.layers.Conv2D(32, (3, 3), strides=(2, 2), padding='same', activation='relu')) #24x16x32\n",
    "model.add(tf.keras.layers.Dropout(0.2))\n",
    "model.add(tf.keras.layers.Conv2D(32, (3, 3), padding='same', activation='relu')) #24x16x32\n",
    "model.add(tf.keras.layers.Dropout(0.2))\n",
    "model.add(tf.keras.layers.Conv2D(64, (3, 3), strides=(2, 2), padding='same', activation='relu')) #12x8x64\n",
    "model.add(tf.keras.layers.Dropout(0.2))\n",
    "model.add(tf.keras.layers.Conv2D(64, (3, 3), padding='same', activation='relu')) #12x8x64\n",
    "model.add(tf.keras.layers.Dropout(0.2))\n",
    "model.add(tf.keras.layers.Conv2D(128, (3, 3), strides=(2, 2), padding='same', activation='relu')) #6x4x128\n",
    "model.add(tf.keras.layers.Dropout(0.2))\n",
    "model.add(tf.keras.layers.Conv2D(32, (1, 1), padding='same', activation='relu')) #6x4x32\n",
    "model.add(tf.keras.layers.Dropout(0.2))\n",
    "model.add(tf.keras.layers.Flatten()) #768\n",
    "model.add(tf.keras.layers.Dense(500, activation='relu')) #1000\n",
    "model.add(tf.keras.layers.Dropout(0.5))\n",
    "model.add(tf.keras.layers.Dense(1, activation='sigmoid')) #1"
   ]
  },
  {
   "cell_type": "code",
   "execution_count": 140,
   "metadata": {},
   "outputs": [],
   "source": [
    "model.compile(optimizer=\"adam\", loss=\"binary_crossentropy\", metrics=['acc'])"
   ]
  },
  {
   "cell_type": "code",
   "execution_count": 141,
   "metadata": {},
   "outputs": [
    {
     "name": "stdout",
     "output_type": "stream",
     "text": [
      "Train on 2780 samples, validate on 309 samples\n",
      "Epoch 1/10\n",
      "2780/2780 [==============================] - 9s 3ms/sample - loss: 0.6094 - acc: 0.6712 - val_loss: 0.5313 - val_acc: 0.7217\n",
      "Epoch 2/10\n",
      "2780/2780 [==============================] - 8s 3ms/sample - loss: 0.4609 - acc: 0.7766 - val_loss: 0.3961 - val_acc: 0.8317\n",
      "Epoch 3/10\n",
      "2780/2780 [==============================] - 8s 3ms/sample - loss: 0.4149 - acc: 0.8299 - val_loss: 0.3538 - val_acc: 0.8511\n",
      "Epoch 4/10\n",
      "2780/2780 [==============================] - 7s 3ms/sample - loss: 0.3674 - acc: 0.8576 - val_loss: 0.3301 - val_acc: 0.8673\n",
      "Epoch 5/10\n",
      "2780/2780 [==============================] - 7s 3ms/sample - loss: 0.3455 - acc: 0.8647 - val_loss: 0.3215 - val_acc: 0.8608\n",
      "Epoch 6/10\n",
      "2780/2780 [==============================] - 7s 3ms/sample - loss: 0.3297 - acc: 0.8701 - val_loss: 0.3229 - val_acc: 0.8706\n",
      "Epoch 7/10\n",
      "2780/2780 [==============================] - 7s 3ms/sample - loss: 0.3194 - acc: 0.8773 - val_loss: 0.3313 - val_acc: 0.8608\n",
      "Epoch 8/10\n",
      "2780/2780 [==============================] - 7s 3ms/sample - loss: 0.2962 - acc: 0.8831 - val_loss: 0.3181 - val_acc: 0.8706\n",
      "Epoch 9/10\n",
      "2780/2780 [==============================] - 7s 3ms/sample - loss: 0.2893 - acc: 0.8903 - val_loss: 0.3354 - val_acc: 0.8544\n",
      "Epoch 10/10\n",
      "2780/2780 [==============================] - 7s 3ms/sample - loss: 0.2725 - acc: 0.8993 - val_loss: 0.3456 - val_acc: 0.8738\n"
     ]
    }
   ],
   "source": [
    "N_EPOCHS = 10\n",
    "BATCH_SIZE = 32\n",
    "h = model.fit(X_train, y_train, epochs=N_EPOCHS, batch_size=BATCH_SIZE, validation_split=0.1)"
   ]
  },
  {
   "cell_type": "code",
   "execution_count": 142,
   "metadata": {},
   "outputs": [
    {
     "data": {
      "text/plain": [
       "<matplotlib.legend.Legend at 0x24cc374ca90>"
      ]
     },
     "execution_count": 142,
     "metadata": {},
     "output_type": "execute_result"
    },
    {
     "data": {
      "image/png": "[encoded data removed]",
      "text/plain": [
       "<Figure size 432x288 with 1 Axes>"
      ]
     },
     "metadata": {
      "needs_background": "light"
     },
     "output_type": "display_data"
    }
   ],
   "source": [
    "plt.plot(h.history['loss'])\n",
    "plt.plot(h.history['val_loss'])\n",
    "plt.legend(['loss', 'validation loss'])"
   ]
  },
  {
   "cell_type": "code",
   "execution_count": 143,
   "metadata": {},
   "outputs": [
    {
     "data": {
      "text/plain": [
       "<matplotlib.legend.Legend at 0x24cc376b898>"
      ]
     },
     "execution_count": 143,
     "metadata": {},
     "output_type": "execute_result"
    },
    {
     "data": {
      "image/png": "[encoded data removed]",
      "text/plain": [
       "<Figure size 432x288 with 1 Axes>"
      ]
     },
     "metadata": {
      "needs_background": "light"
     },
     "output_type": "display_data"
    }
   ],
   "source": [
    "plt.plot(h.history['acc'])\n",
    "plt.plot(h.history['val_acc'])\n",
    "plt.legend(['accuracy', 'validation accuracy'])"
   ]
  },
  {
   "cell_type": "markdown",
   "metadata": {},
   "source": [
    "<h3>Test on test data</h3>"
   ]
  },
  {
   "cell_type": "code",
   "execution_count": 144,
   "metadata": {},
   "outputs": [],
   "source": [
    "loss, acc = model.evaluate(X_test, y_test, verbose=False)"
   ]
  },
  {
   "cell_type": "code",
   "execution_count": 145,
   "metadata": {},
   "outputs": [
    {
     "name": "stdout",
     "output_type": "stream",
     "text": [
      "Loss on test set: 0.297\n",
      "Accuracy on test set: 88.36%\n"
     ]
    }
   ],
   "source": [
    "print('Loss on test set: %.3f\\nAccuracy on test set: %.2f%%' % (loss, acc * 100.0)) "
   ]
  },
  {
   "cell_type": "code",
   "execution_count": null,
   "metadata": {},
   "outputs": [],
   "source": []
  }
 ],
 "metadata": {
  "kernelspec": {
   "display_name": "Python 3",
   "language": "python",
   "name": "python3"
  },
  "language_info": {
   "codemirror_mode": {
    "name": "ipython",
    "version": 3
   },
   "file_extension": ".py",
   "mimetype": "text/x-python",
   "name": "python",
   "nbconvert_exporter": "python",
   "pygments_lexer": "ipython3",
   "version": "3.7.3"
  }
 },
 "nbformat": 4,
 "nbformat_minor": 2
}
